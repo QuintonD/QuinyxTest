{
 "cells": [
  {
   "cell_type": "code",
   "execution_count": 1,
   "id": "875658eb",
   "metadata": {},
   "outputs": [],
   "source": [
    "import os\n",
    "import datetime\n",
    "\n",
    "import IPython\n",
    "import IPython.display\n",
    "import matplotlib as mpl\n",
    "import matplotlib.pyplot as plt\n",
    "import numpy as np\n",
    "import pandas as pd\n",
    "import seaborn as sns\n",
    "import tensorflow as tf"
   ]
  },
  {
   "cell_type": "code",
   "execution_count": 2,
   "id": "875186ef",
   "metadata": {},
   "outputs": [],
   "source": [
    "csv_path = \"C:\\Work\\Quinyx\\QuinyxTest\\VesselData.csv\"\n",
    "df = pd.read_csv(csv_path)"
   ]
  },
  {
   "cell_type": "code",
   "execution_count": 3,
   "id": "7ed4f1e2",
   "metadata": {},
   "outputs": [
    {
     "data": {
      "text/html": [
       "<div>\n",
       "<style scoped>\n",
       "    .dataframe tbody tr th:only-of-type {\n",
       "        vertical-align: middle;\n",
       "    }\n",
       "\n",
       "    .dataframe tbody tr th {\n",
       "        vertical-align: top;\n",
       "    }\n",
       "\n",
       "    .dataframe thead th {\n",
       "        text-align: right;\n",
       "    }\n",
       "</style>\n",
       "<table border=\"1\" class=\"dataframe\">\n",
       "  <thead>\n",
       "    <tr style=\"text-align: right;\">\n",
       "      <th></th>\n",
       "      <th>eta</th>\n",
       "      <th>ata</th>\n",
       "      <th>atd</th>\n",
       "      <th>vesseldwt</th>\n",
       "      <th>vesseltype</th>\n",
       "      <th>discharge1</th>\n",
       "      <th>load1</th>\n",
       "      <th>discharge2</th>\n",
       "      <th>load2</th>\n",
       "      <th>discharge3</th>\n",
       "      <th>...</th>\n",
       "      <th>load4</th>\n",
       "      <th>stevedorenames</th>\n",
       "      <th>hasnohamis</th>\n",
       "      <th>earliesteta</th>\n",
       "      <th>latesteta</th>\n",
       "      <th>traveltype</th>\n",
       "      <th>previousportid</th>\n",
       "      <th>nextportid</th>\n",
       "      <th>isremarkable</th>\n",
       "      <th>vesselid</th>\n",
       "    </tr>\n",
       "  </thead>\n",
       "  <tbody>\n",
       "    <tr>\n",
       "      <th>0</th>\n",
       "      <td>2017-09-19 00:00:00+00</td>\n",
       "      <td>2017-09-19 00:00:00+00</td>\n",
       "      <td>2017-09-22 00:00:00+00</td>\n",
       "      <td>109290.0</td>\n",
       "      <td>5</td>\n",
       "      <td>0</td>\n",
       "      <td>0</td>\n",
       "      <td>0</td>\n",
       "      <td>0</td>\n",
       "      <td>90173</td>\n",
       "      <td>...</td>\n",
       "      <td>0</td>\n",
       "      <td>Stevedore_104</td>\n",
       "      <td>NaN</td>\n",
       "      <td>2017-09-19 00:00:00+00</td>\n",
       "      <td>2017-09-19 00:00:00+00</td>\n",
       "      <td>ARRIVAL</td>\n",
       "      <td>981</td>\n",
       "      <td>731</td>\n",
       "      <td>f</td>\n",
       "      <td>2242</td>\n",
       "    </tr>\n",
       "    <tr>\n",
       "      <th>1</th>\n",
       "      <td>2017-10-02 00:00:00+00</td>\n",
       "      <td>2017-10-02 00:00:00+00</td>\n",
       "      <td>2017-10-03 00:00:00+00</td>\n",
       "      <td>67170.0</td>\n",
       "      <td>3</td>\n",
       "      <td>0</td>\n",
       "      <td>0</td>\n",
       "      <td>0</td>\n",
       "      <td>0</td>\n",
       "      <td>0</td>\n",
       "      <td>...</td>\n",
       "      <td>0</td>\n",
       "      <td>Stevedore_109</td>\n",
       "      <td>NaN</td>\n",
       "      <td>2017-10-02 00:00:00+00</td>\n",
       "      <td>2017-10-02 00:00:00+00</td>\n",
       "      <td>ARRIVAL</td>\n",
       "      <td>19</td>\n",
       "      <td>15</td>\n",
       "      <td>f</td>\n",
       "      <td>5462</td>\n",
       "    </tr>\n",
       "    <tr>\n",
       "      <th>2</th>\n",
       "      <td>2017-09-30 00:00:00+00</td>\n",
       "      <td>2017-09-30 00:00:00+00</td>\n",
       "      <td>2017-10-01 00:00:00+00</td>\n",
       "      <td>67737.0</td>\n",
       "      <td>3</td>\n",
       "      <td>0</td>\n",
       "      <td>0</td>\n",
       "      <td>0</td>\n",
       "      <td>0</td>\n",
       "      <td>0</td>\n",
       "      <td>...</td>\n",
       "      <td>0</td>\n",
       "      <td>Stevedore_57</td>\n",
       "      <td>NaN</td>\n",
       "      <td>2017-09-30 00:00:00+00</td>\n",
       "      <td>2017-09-30 00:00:00+00</td>\n",
       "      <td>ARRIVAL</td>\n",
       "      <td>19</td>\n",
       "      <td>19</td>\n",
       "      <td>f</td>\n",
       "      <td>5251</td>\n",
       "    </tr>\n",
       "    <tr>\n",
       "      <th>3</th>\n",
       "      <td>2017-10-02 00:00:00+00</td>\n",
       "      <td>2017-10-02 00:00:00+00</td>\n",
       "      <td>2017-10-03 00:00:00+00</td>\n",
       "      <td>43600.0</td>\n",
       "      <td>3</td>\n",
       "      <td>0</td>\n",
       "      <td>0</td>\n",
       "      <td>0</td>\n",
       "      <td>0</td>\n",
       "      <td>0</td>\n",
       "      <td>...</td>\n",
       "      <td>0</td>\n",
       "      <td>Stevedore_57</td>\n",
       "      <td>NaN</td>\n",
       "      <td>2017-10-02 00:00:00+00</td>\n",
       "      <td>2017-10-02 00:00:00+00</td>\n",
       "      <td>ARRIVAL</td>\n",
       "      <td>15</td>\n",
       "      <td>18</td>\n",
       "      <td>f</td>\n",
       "      <td>5268</td>\n",
       "    </tr>\n",
       "    <tr>\n",
       "      <th>4</th>\n",
       "      <td>2017-10-02 00:00:00+00</td>\n",
       "      <td>2017-10-02 00:00:00+00</td>\n",
       "      <td>2017-10-02 00:00:00+00</td>\n",
       "      <td>9231.0</td>\n",
       "      <td>3</td>\n",
       "      <td>0</td>\n",
       "      <td>0</td>\n",
       "      <td>0</td>\n",
       "      <td>0</td>\n",
       "      <td>0</td>\n",
       "      <td>...</td>\n",
       "      <td>0</td>\n",
       "      <td>Stevedore_98</td>\n",
       "      <td>NaN</td>\n",
       "      <td>2017-10-02 00:00:00+00</td>\n",
       "      <td>2017-10-02 00:00:00+00</td>\n",
       "      <td>ARRIVAL</td>\n",
       "      <td>74</td>\n",
       "      <td>27</td>\n",
       "      <td>f</td>\n",
       "      <td>5504</td>\n",
       "    </tr>\n",
       "    <tr>\n",
       "      <th>...</th>\n",
       "      <td>...</td>\n",
       "      <td>...</td>\n",
       "      <td>...</td>\n",
       "      <td>...</td>\n",
       "      <td>...</td>\n",
       "      <td>...</td>\n",
       "      <td>...</td>\n",
       "      <td>...</td>\n",
       "      <td>...</td>\n",
       "      <td>...</td>\n",
       "      <td>...</td>\n",
       "      <td>...</td>\n",
       "      <td>...</td>\n",
       "      <td>...</td>\n",
       "      <td>...</td>\n",
       "      <td>...</td>\n",
       "      <td>...</td>\n",
       "      <td>...</td>\n",
       "      <td>...</td>\n",
       "      <td>...</td>\n",
       "      <td>...</td>\n",
       "    </tr>\n",
       "    <tr>\n",
       "      <th>8203</th>\n",
       "      <td>2017-11-03 00:00:00+00</td>\n",
       "      <td>2017-11-03 00:00:00+00</td>\n",
       "      <td>2017-11-04 00:00:00+00</td>\n",
       "      <td>9587.0</td>\n",
       "      <td>3</td>\n",
       "      <td>0</td>\n",
       "      <td>0</td>\n",
       "      <td>0</td>\n",
       "      <td>0</td>\n",
       "      <td>0</td>\n",
       "      <td>...</td>\n",
       "      <td>0</td>\n",
       "      <td>Stevedore_64</td>\n",
       "      <td>NaN</td>\n",
       "      <td>2017-11-02 00:00:00+00</td>\n",
       "      <td>2017-11-03 00:00:00+00</td>\n",
       "      <td>ARRIVAL</td>\n",
       "      <td>5</td>\n",
       "      <td>19</td>\n",
       "      <td>f</td>\n",
       "      <td>5681</td>\n",
       "    </tr>\n",
       "    <tr>\n",
       "      <th>8204</th>\n",
       "      <td>2017-11-04 00:00:00+00</td>\n",
       "      <td>2017-11-04 00:00:00+00</td>\n",
       "      <td>2017-11-06 00:00:00+00</td>\n",
       "      <td>9654.0</td>\n",
       "      <td>3</td>\n",
       "      <td>0</td>\n",
       "      <td>0</td>\n",
       "      <td>0</td>\n",
       "      <td>0</td>\n",
       "      <td>0</td>\n",
       "      <td>...</td>\n",
       "      <td>0</td>\n",
       "      <td>Stevedore_110,Stevedore_57,Stevedore_99,Steved...</td>\n",
       "      <td>NaN</td>\n",
       "      <td>2017-11-04 00:00:00+00</td>\n",
       "      <td>2017-11-05 00:00:00+00</td>\n",
       "      <td>SHIFT</td>\n",
       "      <td>391</td>\n",
       "      <td>102</td>\n",
       "      <td>f</td>\n",
       "      <td>4843</td>\n",
       "    </tr>\n",
       "    <tr>\n",
       "      <th>8205</th>\n",
       "      <td>2017-11-08 00:00:00+00</td>\n",
       "      <td>2017-11-07 00:00:00+00</td>\n",
       "      <td>2017-11-11 00:00:00+00</td>\n",
       "      <td>4726.0</td>\n",
       "      <td>5</td>\n",
       "      <td>0</td>\n",
       "      <td>0</td>\n",
       "      <td>0</td>\n",
       "      <td>0</td>\n",
       "      <td>0</td>\n",
       "      <td>...</td>\n",
       "      <td>3051</td>\n",
       "      <td>Stevedore_89,Stevedore_79,Stevedore_75,Stevedo...</td>\n",
       "      <td>NaN</td>\n",
       "      <td>2017-11-07 00:00:00+00</td>\n",
       "      <td>2017-11-10 00:00:00+00</td>\n",
       "      <td>SHIFT</td>\n",
       "      <td>1043</td>\n",
       "      <td>19</td>\n",
       "      <td>f</td>\n",
       "      <td>3115</td>\n",
       "    </tr>\n",
       "    <tr>\n",
       "      <th>8206</th>\n",
       "      <td>2017-11-10 00:00:00+00</td>\n",
       "      <td>2017-11-10 00:00:00+00</td>\n",
       "      <td>2017-11-10 00:00:00+00</td>\n",
       "      <td>13320.0</td>\n",
       "      <td>3</td>\n",
       "      <td>0</td>\n",
       "      <td>0</td>\n",
       "      <td>0</td>\n",
       "      <td>0</td>\n",
       "      <td>0</td>\n",
       "      <td>...</td>\n",
       "      <td>0</td>\n",
       "      <td>Stevedore_46</td>\n",
       "      <td>NaN</td>\n",
       "      <td>2017-11-10 00:00:00+00</td>\n",
       "      <td>2017-11-10 00:00:00+00</td>\n",
       "      <td>ARRIVAL</td>\n",
       "      <td>54</td>\n",
       "      <td>71</td>\n",
       "      <td>f</td>\n",
       "      <td>4623</td>\n",
       "    </tr>\n",
       "    <tr>\n",
       "      <th>8207</th>\n",
       "      <td>2017-11-10 00:00:00+00</td>\n",
       "      <td>2017-11-08 00:00:00+00</td>\n",
       "      <td>2017-11-10 00:00:00+00</td>\n",
       "      <td>11020.0</td>\n",
       "      <td>3</td>\n",
       "      <td>0</td>\n",
       "      <td>0</td>\n",
       "      <td>0</td>\n",
       "      <td>0</td>\n",
       "      <td>0</td>\n",
       "      <td>...</td>\n",
       "      <td>0</td>\n",
       "      <td>Stevedore_28,Stevedore_99,Stevedore_57,Stevedo...</td>\n",
       "      <td>NaN</td>\n",
       "      <td>2017-11-08 00:00:00+00</td>\n",
       "      <td>2017-11-10 00:00:00+00</td>\n",
       "      <td>SHIFT</td>\n",
       "      <td>1060</td>\n",
       "      <td>14</td>\n",
       "      <td>f</td>\n",
       "      <td>4785</td>\n",
       "    </tr>\n",
       "  </tbody>\n",
       "</table>\n",
       "<p>8208 rows × 22 columns</p>\n",
       "</div>"
      ],
      "text/plain": [
       "                         eta                     ata                     atd  \\\n",
       "0     2017-09-19 00:00:00+00  2017-09-19 00:00:00+00  2017-09-22 00:00:00+00   \n",
       "1     2017-10-02 00:00:00+00  2017-10-02 00:00:00+00  2017-10-03 00:00:00+00   \n",
       "2     2017-09-30 00:00:00+00  2017-09-30 00:00:00+00  2017-10-01 00:00:00+00   \n",
       "3     2017-10-02 00:00:00+00  2017-10-02 00:00:00+00  2017-10-03 00:00:00+00   \n",
       "4     2017-10-02 00:00:00+00  2017-10-02 00:00:00+00  2017-10-02 00:00:00+00   \n",
       "...                      ...                     ...                     ...   \n",
       "8203  2017-11-03 00:00:00+00  2017-11-03 00:00:00+00  2017-11-04 00:00:00+00   \n",
       "8204  2017-11-04 00:00:00+00  2017-11-04 00:00:00+00  2017-11-06 00:00:00+00   \n",
       "8205  2017-11-08 00:00:00+00  2017-11-07 00:00:00+00  2017-11-11 00:00:00+00   \n",
       "8206  2017-11-10 00:00:00+00  2017-11-10 00:00:00+00  2017-11-10 00:00:00+00   \n",
       "8207  2017-11-10 00:00:00+00  2017-11-08 00:00:00+00  2017-11-10 00:00:00+00   \n",
       "\n",
       "      vesseldwt  vesseltype  discharge1  load1  discharge2  load2  discharge3  \\\n",
       "0      109290.0           5           0      0           0      0       90173   \n",
       "1       67170.0           3           0      0           0      0           0   \n",
       "2       67737.0           3           0      0           0      0           0   \n",
       "3       43600.0           3           0      0           0      0           0   \n",
       "4        9231.0           3           0      0           0      0           0   \n",
       "...         ...         ...         ...    ...         ...    ...         ...   \n",
       "8203     9587.0           3           0      0           0      0           0   \n",
       "8204     9654.0           3           0      0           0      0           0   \n",
       "8205     4726.0           5           0      0           0      0           0   \n",
       "8206    13320.0           3           0      0           0      0           0   \n",
       "8207    11020.0           3           0      0           0      0           0   \n",
       "\n",
       "      ...  load4                                     stevedorenames  \\\n",
       "0     ...      0                                      Stevedore_104   \n",
       "1     ...      0                                      Stevedore_109   \n",
       "2     ...      0                                       Stevedore_57   \n",
       "3     ...      0                                       Stevedore_57   \n",
       "4     ...      0                                       Stevedore_98   \n",
       "...   ...    ...                                                ...   \n",
       "8203  ...      0                                       Stevedore_64   \n",
       "8204  ...      0  Stevedore_110,Stevedore_57,Stevedore_99,Steved...   \n",
       "8205  ...   3051  Stevedore_89,Stevedore_79,Stevedore_75,Stevedo...   \n",
       "8206  ...      0                                       Stevedore_46   \n",
       "8207  ...      0  Stevedore_28,Stevedore_99,Stevedore_57,Stevedo...   \n",
       "\n",
       "      hasnohamis             earliesteta               latesteta traveltype  \\\n",
       "0            NaN  2017-09-19 00:00:00+00  2017-09-19 00:00:00+00    ARRIVAL   \n",
       "1            NaN  2017-10-02 00:00:00+00  2017-10-02 00:00:00+00    ARRIVAL   \n",
       "2            NaN  2017-09-30 00:00:00+00  2017-09-30 00:00:00+00    ARRIVAL   \n",
       "3            NaN  2017-10-02 00:00:00+00  2017-10-02 00:00:00+00    ARRIVAL   \n",
       "4            NaN  2017-10-02 00:00:00+00  2017-10-02 00:00:00+00    ARRIVAL   \n",
       "...          ...                     ...                     ...        ...   \n",
       "8203         NaN  2017-11-02 00:00:00+00  2017-11-03 00:00:00+00    ARRIVAL   \n",
       "8204         NaN  2017-11-04 00:00:00+00  2017-11-05 00:00:00+00      SHIFT   \n",
       "8205         NaN  2017-11-07 00:00:00+00  2017-11-10 00:00:00+00      SHIFT   \n",
       "8206         NaN  2017-11-10 00:00:00+00  2017-11-10 00:00:00+00    ARRIVAL   \n",
       "8207         NaN  2017-11-08 00:00:00+00  2017-11-10 00:00:00+00      SHIFT   \n",
       "\n",
       "     previousportid nextportid  isremarkable  vesselid  \n",
       "0               981        731             f      2242  \n",
       "1                19         15             f      5462  \n",
       "2                19         19             f      5251  \n",
       "3                15         18             f      5268  \n",
       "4                74         27             f      5504  \n",
       "...             ...        ...           ...       ...  \n",
       "8203              5         19             f      5681  \n",
       "8204            391        102             f      4843  \n",
       "8205           1043         19             f      3115  \n",
       "8206             54         71             f      4623  \n",
       "8207           1060         14             f      4785  \n",
       "\n",
       "[8208 rows x 22 columns]"
      ]
     },
     "execution_count": 3,
     "metadata": {},
     "output_type": "execute_result"
    }
   ],
   "source": [
    "df"
   ]
  },
  {
   "cell_type": "code",
   "execution_count": 4,
   "id": "d48913c2",
   "metadata": {},
   "outputs": [],
   "source": [
    "df = df.drop(columns=['eta','stevedorenames','hasnohamis','earliesteta','latesteta','previousportid','nextportid','isremarkable'])"
   ]
  },
  {
   "cell_type": "code",
   "execution_count": 5,
   "id": "a4b4f70a",
   "metadata": {},
   "outputs": [],
   "source": [
    "df['ata'] = pd.to_datetime(df['ata'])\n",
    "df.sort_values('ata', inplace=True, ascending=True)"
   ]
  },
  {
   "cell_type": "markdown",
   "id": "06ada00b",
   "metadata": {},
   "source": [
    "Removed some information in data that is likely not of use and sorted the data by time of arrival. If I have time I will go back and test them by for example mapping strings to values."
   ]
  },
  {
   "cell_type": "code",
   "execution_count": 6,
   "id": "34bab5c0",
   "metadata": {},
   "outputs": [],
   "source": [
    "ata = df.pop('ata')"
   ]
  },
  {
   "cell_type": "code",
   "execution_count": 7,
   "id": "04647807",
   "metadata": {},
   "outputs": [],
   "source": [
    "atd = pd.to_datetime(df.pop('atd'))"
   ]
  },
  {
   "cell_type": "code",
   "execution_count": 8,
   "id": "bfbc7d12",
   "metadata": {},
   "outputs": [],
   "source": [
    "traveltype = df.pop('traveltype')"
   ]
  },
  {
   "cell_type": "code",
   "execution_count": 9,
   "id": "b5b2edba",
   "metadata": {},
   "outputs": [],
   "source": [
    "vesselid = df.pop('vesselid')"
   ]
  },
  {
   "cell_type": "code",
   "execution_count": 10,
   "id": "744f8da8",
   "metadata": {},
   "outputs": [],
   "source": [
    "vesseltype =df.pop('vesseltype')"
   ]
  },
  {
   "cell_type": "code",
   "execution_count": 11,
   "id": "0f96a773",
   "metadata": {},
   "outputs": [],
   "source": [
    "vesseldwt = df.pop('vesseldwt')"
   ]
  },
  {
   "cell_type": "markdown",
   "id": "ebe4bf44",
   "metadata": {},
   "source": [
    "These may be useful so save in sepearte df e.g. for plotting"
   ]
  },
  {
   "cell_type": "code",
   "execution_count": 12,
   "id": "ad18b8c4",
   "metadata": {},
   "outputs": [],
   "source": [
    "ata = pd.to_datetime(ata).dt.date"
   ]
  },
  {
   "cell_type": "markdown",
   "id": "2e0110a3",
   "metadata": {},
   "source": [
    "time aspect not relevant here as it is 0 valued"
   ]
  },
  {
   "cell_type": "code",
   "execution_count": 13,
   "id": "28866ec4",
   "metadata": {},
   "outputs": [
    {
     "data": {
      "text/html": [
       "<div>\n",
       "<style scoped>\n",
       "    .dataframe tbody tr th:only-of-type {\n",
       "        vertical-align: middle;\n",
       "    }\n",
       "\n",
       "    .dataframe tbody tr th {\n",
       "        vertical-align: top;\n",
       "    }\n",
       "\n",
       "    .dataframe thead th {\n",
       "        text-align: right;\n",
       "    }\n",
       "</style>\n",
       "<table border=\"1\" class=\"dataframe\">\n",
       "  <thead>\n",
       "    <tr style=\"text-align: right;\">\n",
       "      <th></th>\n",
       "      <th>discharge1</th>\n",
       "      <th>load1</th>\n",
       "      <th>discharge2</th>\n",
       "      <th>load2</th>\n",
       "      <th>discharge3</th>\n",
       "      <th>load3</th>\n",
       "      <th>discharge4</th>\n",
       "      <th>load4</th>\n",
       "    </tr>\n",
       "  </thead>\n",
       "  <tbody>\n",
       "    <tr>\n",
       "      <th>689</th>\n",
       "      <td>0</td>\n",
       "      <td>0</td>\n",
       "      <td>0</td>\n",
       "      <td>0</td>\n",
       "      <td>85539</td>\n",
       "      <td>0</td>\n",
       "      <td>0</td>\n",
       "      <td>0</td>\n",
       "    </tr>\n",
       "    <tr>\n",
       "      <th>202</th>\n",
       "      <td>0</td>\n",
       "      <td>0</td>\n",
       "      <td>0</td>\n",
       "      <td>0</td>\n",
       "      <td>0</td>\n",
       "      <td>0</td>\n",
       "      <td>0</td>\n",
       "      <td>0</td>\n",
       "    </tr>\n",
       "    <tr>\n",
       "      <th>361</th>\n",
       "      <td>0</td>\n",
       "      <td>0</td>\n",
       "      <td>0</td>\n",
       "      <td>0</td>\n",
       "      <td>0</td>\n",
       "      <td>0</td>\n",
       "      <td>0</td>\n",
       "      <td>0</td>\n",
       "    </tr>\n",
       "    <tr>\n",
       "      <th>185</th>\n",
       "      <td>0</td>\n",
       "      <td>0</td>\n",
       "      <td>0</td>\n",
       "      <td>0</td>\n",
       "      <td>0</td>\n",
       "      <td>0</td>\n",
       "      <td>0</td>\n",
       "      <td>0</td>\n",
       "    </tr>\n",
       "    <tr>\n",
       "      <th>1725</th>\n",
       "      <td>0</td>\n",
       "      <td>0</td>\n",
       "      <td>0</td>\n",
       "      <td>0</td>\n",
       "      <td>70963</td>\n",
       "      <td>0</td>\n",
       "      <td>0</td>\n",
       "      <td>0</td>\n",
       "    </tr>\n",
       "    <tr>\n",
       "      <th>...</th>\n",
       "      <td>...</td>\n",
       "      <td>...</td>\n",
       "      <td>...</td>\n",
       "      <td>...</td>\n",
       "      <td>...</td>\n",
       "      <td>...</td>\n",
       "      <td>...</td>\n",
       "      <td>...</td>\n",
       "    </tr>\n",
       "    <tr>\n",
       "      <th>8043</th>\n",
       "      <td>0</td>\n",
       "      <td>0</td>\n",
       "      <td>0</td>\n",
       "      <td>0</td>\n",
       "      <td>0</td>\n",
       "      <td>0</td>\n",
       "      <td>0</td>\n",
       "      <td>0</td>\n",
       "    </tr>\n",
       "    <tr>\n",
       "      <th>8000</th>\n",
       "      <td>0</td>\n",
       "      <td>0</td>\n",
       "      <td>0</td>\n",
       "      <td>0</td>\n",
       "      <td>0</td>\n",
       "      <td>0</td>\n",
       "      <td>0</td>\n",
       "      <td>0</td>\n",
       "    </tr>\n",
       "    <tr>\n",
       "      <th>7844</th>\n",
       "      <td>0</td>\n",
       "      <td>0</td>\n",
       "      <td>0</td>\n",
       "      <td>0</td>\n",
       "      <td>0</td>\n",
       "      <td>0</td>\n",
       "      <td>0</td>\n",
       "      <td>0</td>\n",
       "    </tr>\n",
       "    <tr>\n",
       "      <th>8196</th>\n",
       "      <td>0</td>\n",
       "      <td>0</td>\n",
       "      <td>0</td>\n",
       "      <td>0</td>\n",
       "      <td>0</td>\n",
       "      <td>0</td>\n",
       "      <td>0</td>\n",
       "      <td>0</td>\n",
       "    </tr>\n",
       "    <tr>\n",
       "      <th>7710</th>\n",
       "      <td>0</td>\n",
       "      <td>0</td>\n",
       "      <td>0</td>\n",
       "      <td>0</td>\n",
       "      <td>0</td>\n",
       "      <td>0</td>\n",
       "      <td>0</td>\n",
       "      <td>0</td>\n",
       "    </tr>\n",
       "  </tbody>\n",
       "</table>\n",
       "<p>8208 rows × 8 columns</p>\n",
       "</div>"
      ],
      "text/plain": [
       "      discharge1  load1  discharge2  load2  discharge3  load3  discharge4  \\\n",
       "689            0      0           0      0       85539      0           0   \n",
       "202            0      0           0      0           0      0           0   \n",
       "361            0      0           0      0           0      0           0   \n",
       "185            0      0           0      0           0      0           0   \n",
       "1725           0      0           0      0       70963      0           0   \n",
       "...          ...    ...         ...    ...         ...    ...         ...   \n",
       "8043           0      0           0      0           0      0           0   \n",
       "8000           0      0           0      0           0      0           0   \n",
       "7844           0      0           0      0           0      0           0   \n",
       "8196           0      0           0      0           0      0           0   \n",
       "7710           0      0           0      0           0      0           0   \n",
       "\n",
       "      load4  \n",
       "689       0  \n",
       "202       0  \n",
       "361       0  \n",
       "185       0  \n",
       "1725      0  \n",
       "...     ...  \n",
       "8043      0  \n",
       "8000      0  \n",
       "7844      0  \n",
       "8196      0  \n",
       "7710      0  \n",
       "\n",
       "[8208 rows x 8 columns]"
      ]
     },
     "execution_count": 13,
     "metadata": {},
     "output_type": "execute_result"
    }
   ],
   "source": [
    "df"
   ]
  },
  {
   "cell_type": "code",
   "execution_count": 14,
   "id": "bfb208ff",
   "metadata": {},
   "outputs": [
    {
     "data": {
      "image/png": "[encoded data removed]",
      "text/plain": [
       "<Figure size 432x288 with 7 Axes>"
      ]
     },
     "metadata": {
      "needs_background": "light"
     },
     "output_type": "display_data"
    },
    {
     "data": {
      "image/png": "[encoded data removed]",
      "text/plain": [
       "<Figure size 432x288 with 7 Axes>"
      ]
     },
     "metadata": {
      "needs_background": "light"
     },
     "output_type": "display_data"
    }
   ],
   "source": [
    "plot_cols = ['discharge1', 'load1', 'discharge2','load2','discharge3','load3','discharge4']\n",
    "plot_features = df[plot_cols]\n",
    "plot_features.index = ata\n",
    "_ = plot_features.plot(subplots=True)\n",
    "\n",
    "plot_features = df[plot_cols]\n",
    "plot_features.index = atd\n",
    "_ = plot_features.plot(subplots=True)"
   ]
  },
  {
   "cell_type": "code",
   "execution_count": 15,
   "id": "75866a85",
   "metadata": {},
   "outputs": [
    {
     "data": {
      "image/png": "[encoded data removed]",
      "text/plain": [
       "<Figure size 432x288 with 1 Axes>"
      ]
     },
     "metadata": {
      "needs_background": "light"
     },
     "output_type": "display_data"
    }
   ],
   "source": [
    "plot_cols = ['load2']\n",
    "plot_features = df[plot_cols]\n",
    "plot_features.index = ata\n",
    "_ = plot_features.plot(subplots=True)"
   ]
  },
  {
   "cell_type": "code",
   "execution_count": 16,
   "id": "e48531ae",
   "metadata": {},
   "outputs": [
    {
     "data": {
      "image/png": "[encoded data removed]",
      "text/plain": [
       "<Figure size 432x288 with 1 Axes>"
      ]
     },
     "metadata": {
      "needs_background": "light"
     },
     "output_type": "display_data"
    }
   ],
   "source": [
    "plot_cols = ['discharge4']\n",
    "plot_features = df[plot_cols]\n",
    "plot_features.index = ata\n",
    "_ = plot_features.plot(subplots=True)"
   ]
  },
  {
   "cell_type": "code",
   "execution_count": 17,
   "id": "5d7da9db",
   "metadata": {},
   "outputs": [
    {
     "data": {
      "text/html": [
       "<div>\n",
       "<style scoped>\n",
       "    .dataframe tbody tr th:only-of-type {\n",
       "        vertical-align: middle;\n",
       "    }\n",
       "\n",
       "    .dataframe tbody tr th {\n",
       "        vertical-align: top;\n",
       "    }\n",
       "\n",
       "    .dataframe thead th {\n",
       "        text-align: right;\n",
       "    }\n",
       "</style>\n",
       "<table border=\"1\" class=\"dataframe\">\n",
       "  <thead>\n",
       "    <tr style=\"text-align: right;\">\n",
       "      <th></th>\n",
       "      <th>count</th>\n",
       "      <th>mean</th>\n",
       "      <th>std</th>\n",
       "      <th>min</th>\n",
       "      <th>25%</th>\n",
       "      <th>50%</th>\n",
       "      <th>75%</th>\n",
       "      <th>max</th>\n",
       "    </tr>\n",
       "  </thead>\n",
       "  <tbody>\n",
       "    <tr>\n",
       "      <th>discharge1</th>\n",
       "      <td>8208.0</td>\n",
       "      <td>1732.712841</td>\n",
       "      <td>16297.994648</td>\n",
       "      <td>0.0</td>\n",
       "      <td>0.0</td>\n",
       "      <td>0.0</td>\n",
       "      <td>0.0</td>\n",
       "      <td>204304.0</td>\n",
       "    </tr>\n",
       "    <tr>\n",
       "      <th>load1</th>\n",
       "      <td>8208.0</td>\n",
       "      <td>60.754386</td>\n",
       "      <td>1325.463945</td>\n",
       "      <td>0.0</td>\n",
       "      <td>0.0</td>\n",
       "      <td>0.0</td>\n",
       "      <td>0.0</td>\n",
       "      <td>41761.0</td>\n",
       "    </tr>\n",
       "    <tr>\n",
       "      <th>discharge2</th>\n",
       "      <td>8208.0</td>\n",
       "      <td>1168.698221</td>\n",
       "      <td>11331.135301</td>\n",
       "      <td>0.0</td>\n",
       "      <td>0.0</td>\n",
       "      <td>0.0</td>\n",
       "      <td>0.0</td>\n",
       "      <td>189933.0</td>\n",
       "    </tr>\n",
       "    <tr>\n",
       "      <th>load2</th>\n",
       "      <td>8208.0</td>\n",
       "      <td>19.387549</td>\n",
       "      <td>665.333248</td>\n",
       "      <td>0.0</td>\n",
       "      <td>0.0</td>\n",
       "      <td>0.0</td>\n",
       "      <td>0.0</td>\n",
       "      <td>43639.0</td>\n",
       "    </tr>\n",
       "    <tr>\n",
       "      <th>discharge3</th>\n",
       "      <td>8208.0</td>\n",
       "      <td>4791.331871</td>\n",
       "      <td>25366.035772</td>\n",
       "      <td>0.0</td>\n",
       "      <td>0.0</td>\n",
       "      <td>0.0</td>\n",
       "      <td>0.0</td>\n",
       "      <td>299647.0</td>\n",
       "    </tr>\n",
       "    <tr>\n",
       "      <th>load3</th>\n",
       "      <td>8208.0</td>\n",
       "      <td>44.745492</td>\n",
       "      <td>3071.717973</td>\n",
       "      <td>0.0</td>\n",
       "      <td>0.0</td>\n",
       "      <td>0.0</td>\n",
       "      <td>0.0</td>\n",
       "      <td>271251.0</td>\n",
       "    </tr>\n",
       "    <tr>\n",
       "      <th>discharge4</th>\n",
       "      <td>8208.0</td>\n",
       "      <td>1820.782407</td>\n",
       "      <td>10034.936858</td>\n",
       "      <td>0.0</td>\n",
       "      <td>0.0</td>\n",
       "      <td>0.0</td>\n",
       "      <td>0.0</td>\n",
       "      <td>183837.0</td>\n",
       "    </tr>\n",
       "    <tr>\n",
       "      <th>load4</th>\n",
       "      <td>8208.0</td>\n",
       "      <td>1509.046784</td>\n",
       "      <td>11936.519585</td>\n",
       "      <td>0.0</td>\n",
       "      <td>0.0</td>\n",
       "      <td>0.0</td>\n",
       "      <td>0.0</td>\n",
       "      <td>293449.0</td>\n",
       "    </tr>\n",
       "  </tbody>\n",
       "</table>\n",
       "</div>"
      ],
      "text/plain": [
       "             count         mean           std  min  25%  50%  75%       max\n",
       "discharge1  8208.0  1732.712841  16297.994648  0.0  0.0  0.0  0.0  204304.0\n",
       "load1       8208.0    60.754386   1325.463945  0.0  0.0  0.0  0.0   41761.0\n",
       "discharge2  8208.0  1168.698221  11331.135301  0.0  0.0  0.0  0.0  189933.0\n",
       "load2       8208.0    19.387549    665.333248  0.0  0.0  0.0  0.0   43639.0\n",
       "discharge3  8208.0  4791.331871  25366.035772  0.0  0.0  0.0  0.0  299647.0\n",
       "load3       8208.0    44.745492   3071.717973  0.0  0.0  0.0  0.0  271251.0\n",
       "discharge4  8208.0  1820.782407  10034.936858  0.0  0.0  0.0  0.0  183837.0\n",
       "load4       8208.0  1509.046784  11936.519585  0.0  0.0  0.0  0.0  293449.0"
      ]
     },
     "execution_count": 17,
     "metadata": {},
     "output_type": "execute_result"
    }
   ],
   "source": [
    "df.describe().transpose()"
   ]
  },
  {
   "cell_type": "markdown",
   "id": "3fb28293",
   "metadata": {},
   "source": [
    "Sparcity of the data worries me."
   ]
  },
  {
   "cell_type": "code",
   "execution_count": 18,
   "id": "77e28e1d",
   "metadata": {},
   "outputs": [],
   "source": [
    "column_indices = {name: i for i, name in enumerate(df.columns)}\n",
    "n = len(df)\n",
    "train_df = df[0:int(n*0.7)]\n",
    "val_df = df[int(n*0.7):int(n*0.9)]\n",
    "test_df = df[int(n*0.9):]\n",
    "\n",
    "num_features = df.shape[1]"
   ]
  },
  {
   "cell_type": "markdown",
   "id": "9b01db5e",
   "metadata": {},
   "source": [
    "split the dataset into a training and test set before normalising. As this is a forcast, the data isnt shuffled."
   ]
  },
  {
   "cell_type": "code",
   "execution_count": 19,
   "id": "ef826e46",
   "metadata": {},
   "outputs": [],
   "source": [
    "train_mean = train_df.mean()\n",
    "train_std = train_df.std()\n",
    "\n",
    "train_df = (train_df - train_mean) / train_std\n",
    "val_df = (val_df - train_mean) / train_std\n",
    "test_df = (test_df - train_mean) / train_std"
   ]
  },
  {
   "cell_type": "markdown",
   "id": "7f9c5b2d",
   "metadata": {},
   "source": [
    "normalising the data should help forcasting greatly, use mean normalisation as min max doesnt handle outliers well"
   ]
  },
  {
   "cell_type": "code",
   "execution_count": 20,
   "id": "eadf861a",
   "metadata": {},
   "outputs": [],
   "source": [
    "class WindowGenerator():\n",
    "  def __init__(self, input_width, label_width, shift,\n",
    "               train_df=train_df, val_df=val_df, test_df=test_df,\n",
    "               label_columns=None):\n",
    "    # Store the raw data.\n",
    "    self.train_df = train_df\n",
    "    self.val_df = val_df\n",
    "    self.test_df = test_df\n",
    "\n",
    "    # Work out the label column indices.\n",
    "    self.label_columns = label_columns\n",
    "    if label_columns is not None:\n",
    "      self.label_columns_indices = {name: i for i, name in\n",
    "                                    enumerate(label_columns)}\n",
    "    self.column_indices = {name: i for i, name in\n",
    "                           enumerate(train_df.columns)}\n",
    "\n",
    "    # Work out the window parameters.\n",
    "    self.input_width = input_width\n",
    "    self.label_width = label_width\n",
    "    self.shift = shift\n",
    "\n",
    "    self.total_window_size = input_width + shift\n",
    "\n",
    "    self.input_slice = slice(0, input_width)\n",
    "    self.input_indices = np.arange(self.total_window_size)[self.input_slice]\n",
    "\n",
    "    self.label_start = self.total_window_size - self.label_width\n",
    "    self.labels_slice = slice(self.label_start, None)\n",
    "    self.label_indices = np.arange(self.total_window_size)[self.labels_slice]\n",
    "\n",
    "  def __repr__(self):\n",
    "    return '\\n'.join([\n",
    "        f'Total window size: {self.total_window_size}',\n",
    "        f'Input indices: {self.input_indices}',\n",
    "        f'Label indices: {self.label_indices}',\n",
    "        f'Label column name(s): {self.label_columns}'])"
   ]
  },
  {
   "cell_type": "code",
   "execution_count": 21,
   "id": "d001b247",
   "metadata": {},
   "outputs": [],
   "source": [
    "def split_window(self, features):\n",
    "  inputs = features[:, self.input_slice, :]\n",
    "  labels = features[:, self.labels_slice, :]\n",
    "  if self.label_columns is not None:\n",
    "    labels = tf.stack(\n",
    "        [labels[:, :, self.column_indices[name]] for name in self.label_columns],\n",
    "        axis=-1)\n",
    "\n",
    "  # Slicing doesn't preserve static shape information, so set the shapes\n",
    "  # manually. This way the `tf.data.Datasets` are easier to inspect.\n",
    "  inputs.set_shape([None, self.input_width, None])\n",
    "  labels.set_shape([None, self.label_width, None])\n",
    "\n",
    "  return inputs, labels\n",
    "\n",
    "WindowGenerator.split_window = split_window"
   ]
  },
  {
   "cell_type": "code",
   "execution_count": 22,
   "id": "a0f3be72",
   "metadata": {},
   "outputs": [],
   "source": [
    "w1 = WindowGenerator(input_width=18, label_width=1, shift=24,\n",
    "                     label_columns=['discharge4'])\n",
    "\n",
    "w2 = WindowGenerator(input_width=48, label_width=1, shift=1,\n",
    "                     label_columns=['discharge4'])"
   ]
  },
  {
   "cell_type": "code",
   "execution_count": 23,
   "id": "faee0c0c",
   "metadata": {},
   "outputs": [
    {
     "name": "stdout",
     "output_type": "stream",
     "text": [
      "All shapes are: (batch, time, features)\n",
      "Window shape: (3, 49, 8)\n",
      "Inputs shape: (3, 48, 8)\n",
      "labels shape: (3, 1, 1)\n"
     ]
    }
   ],
   "source": [
    "example_window = tf.stack([np.array(train_df[:w2.total_window_size]),\n",
    "                           np.array(train_df[100:100+w2.total_window_size]),\n",
    "                           np.array(train_df[200:200+w2.total_window_size])])\n",
    "\n",
    "\n",
    "example_inputs, example_labels = w2.split_window(example_window)\n",
    "\n",
    "print('All shapes are: (batch, time, features)')\n",
    "print(f'Window shape: {example_window.shape}')\n",
    "print(f'Inputs shape: {example_inputs.shape}')\n",
    "print(f'labels shape: {example_labels.shape}')"
   ]
  },
  {
   "cell_type": "code",
   "execution_count": 24,
   "id": "5b5aa0fa",
   "metadata": {},
   "outputs": [],
   "source": [
    "w2.example = example_inputs, example_labels"
   ]
  },
  {
   "cell_type": "code",
   "execution_count": 25,
   "id": "d3239158",
   "metadata": {},
   "outputs": [],
   "source": [
    "def plot(self, model=None, plot_col='discharge4', max_subplots=3):\n",
    "  inputs, labels = self.example\n",
    "  plt.figure(figsize=(12, 8))\n",
    "  plot_col_index = self.column_indices[plot_col]\n",
    "  max_n = min(max_subplots, len(inputs))\n",
    "  for n in range(max_n):\n",
    "    plt.subplot(max_n, 1, n+1)\n",
    "    plt.ylabel(f'{plot_col} [normed]')\n",
    "    plt.plot(self.input_indices, inputs[n, :, plot_col_index],\n",
    "             label='Inputs', marker='.', zorder=-10)\n",
    "\n",
    "    if self.label_columns:\n",
    "      label_col_index = self.label_columns_indices.get(plot_col, None)\n",
    "    else:\n",
    "      label_col_index = plot_col_index\n",
    "\n",
    "    if label_col_index is None:\n",
    "      continue\n",
    "\n",
    "    plt.scatter(self.label_indices, labels[n, :, label_col_index],\n",
    "                edgecolors='k', label='Labels', c='#2ca02c', s=64)\n",
    "    if model is not None:\n",
    "      predictions = model(inputs)\n",
    "      plt.scatter(self.label_indices, predictions[n, :, label_col_index],\n",
    "                  marker='X', edgecolors='k', label='Predictions',\n",
    "                  c='#ff7f0e', s=64)\n",
    "\n",
    "    if n == 0:\n",
    "      plt.legend()\n",
    "\n",
    "  plt.xlabel('Time [h]')\n",
    "\n",
    "WindowGenerator.plot = plot"
   ]
  },
  {
   "cell_type": "code",
   "execution_count": 26,
   "id": "53db7925",
   "metadata": {},
   "outputs": [
    {
     "data": {
      "image/png": "[encoded data removed]",
      "text/plain": [
       "<Figure size 864x576 with 3 Axes>"
      ]
     },
     "metadata": {
      "needs_background": "light"
     },
     "output_type": "display_data"
    }
   ],
   "source": [
    "w2.plot()"
   ]
  },
  {
   "cell_type": "code",
   "execution_count": 27,
   "id": "cfa9dad0",
   "metadata": {},
   "outputs": [],
   "source": [
    "def make_dataset(self, data):\n",
    "  data = np.array(data, dtype=np.float32)\n",
    "  ds = tf.keras.preprocessing.timeseries_dataset_from_array(\n",
    "      data=data,\n",
    "      targets=None,\n",
    "      sequence_length=self.total_window_size,\n",
    "      sequence_stride=1,\n",
    "      shuffle=True,\n",
    "      batch_size=32,)\n",
    "\n",
    "  ds = ds.map(self.split_window)\n",
    "\n",
    "  return ds\n",
    "\n",
    "WindowGenerator.make_dataset = make_dataset"
   ]
  },
  {
   "cell_type": "code",
   "execution_count": 28,
   "id": "d8aa4c3d",
   "metadata": {},
   "outputs": [],
   "source": [
    "@property\n",
    "def train(self):\n",
    "  return self.make_dataset(self.train_df)\n",
    "\n",
    "@property\n",
    "def val(self):\n",
    "  return self.make_dataset(self.val_df)\n",
    "\n",
    "@property\n",
    "def test(self):\n",
    "  return self.make_dataset(self.test_df)\n",
    "\n",
    "@property\n",
    "def example(self):\n",
    "  #Get and cache an example batch of `inputs, labels` for plotting\n",
    "  result = getattr(self, '_example', None)\n",
    "  if result is None:\n",
    "    # No example batch was found, so get one from the `.train` dataset\n",
    "    result = next(iter(self.train))\n",
    "    # And cache it for next time\n",
    "    self._example = result\n",
    "  return result\n",
    "\n",
    "WindowGenerator.train = train\n",
    "WindowGenerator.val = val\n",
    "WindowGenerator.test = test\n",
    "WindowGenerator.example = example"
   ]
  },
  {
   "cell_type": "code",
   "execution_count": 29,
   "id": "0ec66bf7",
   "metadata": {},
   "outputs": [
    {
     "data": {
      "text/plain": [
       "(TensorSpec(shape=(None, 48, 8), dtype=tf.float32, name=None),\n",
       " TensorSpec(shape=(None, 1, 1), dtype=tf.float32, name=None))"
      ]
     },
     "execution_count": 29,
     "metadata": {},
     "output_type": "execute_result"
    }
   ],
   "source": [
    "w2.train.element_spec"
   ]
  },
  {
   "cell_type": "code",
   "execution_count": 30,
   "id": "b9b5bdf8",
   "metadata": {},
   "outputs": [
    {
     "name": "stdout",
     "output_type": "stream",
     "text": [
      "Inputs shape (batch, time, features): (32, 48, 8)\n",
      "Labels shape (batch, time, features): (32, 1, 1)\n"
     ]
    }
   ],
   "source": [
    "for example_inputs, example_labels in w2.train.take(1):\n",
    "  print(f'Inputs shape (batch, time, features): {example_inputs.shape}')\n",
    "  print(f'Labels shape (batch, time, features): {example_labels.shape}')"
   ]
  },
  {
   "cell_type": "code",
   "execution_count": 31,
   "id": "5a81e33b",
   "metadata": {},
   "outputs": [
    {
     "data": {
      "text/plain": [
       "Total window size: 2\n",
       "Input indices: [0]\n",
       "Label indices: [1]\n",
       "Label column name(s): ['discharge4']"
      ]
     },
     "execution_count": 31,
     "metadata": {},
     "output_type": "execute_result"
    }
   ],
   "source": [
    "single_step_window = WindowGenerator(\n",
    "    input_width=1, label_width=1, shift=1,\n",
    "    label_columns=['discharge4'])\n",
    "single_step_window"
   ]
  },
  {
   "cell_type": "code",
   "execution_count": 32,
   "id": "84ac2182",
   "metadata": {},
   "outputs": [],
   "source": [
    "class Baseline(tf.keras.Model):\n",
    "  def __init__(self, label_index=None):\n",
    "    super().__init__()\n",
    "    self.label_index = label_index\n",
    "\n",
    "  def call(self, inputs):\n",
    "    if self.label_index is None:\n",
    "      return inputs\n",
    "    result = inputs[:, :, self.label_index]\n",
    "    return result[:, :, tf.newaxis]"
   ]
  },
  {
   "cell_type": "code",
   "execution_count": 33,
   "id": "e1c131b7",
   "metadata": {},
   "outputs": [
    {
     "name": "stdout",
     "output_type": "stream",
     "text": [
      "52/52 [==============================] - 0s 1ms/step - loss: 1.9504 - mean_absolute_error: 0.3576\n"
     ]
    }
   ],
   "source": [
    "baseline = Baseline(label_index=column_indices['discharge4'])\n",
    "\n",
    "baseline.compile(loss=tf.losses.MeanSquaredError(),\n",
    "                 metrics=[tf.metrics.MeanAbsoluteError()])\n",
    "\n",
    "val_performance = {}\n",
    "performance = {}\n",
    "val_performance['Baseline'] = baseline.evaluate(single_step_window.val)\n",
    "performance['Baseline'] = baseline.evaluate(single_step_window.test, verbose=0)"
   ]
  },
  {
   "cell_type": "code",
   "execution_count": 34,
   "id": "60d62143",
   "metadata": {},
   "outputs": [
    {
     "data": {
      "text/plain": [
       "Total window size: 25\n",
       "Input indices: [ 0  1  2  3  4  5  6  7  8  9 10 11 12 13 14 15 16 17 18 19 20 21 22 23]\n",
       "Label indices: [ 1  2  3  4  5  6  7  8  9 10 11 12 13 14 15 16 17 18 19 20 21 22 23 24]\n",
       "Label column name(s): ['discharge4']"
      ]
     },
     "execution_count": 34,
     "metadata": {},
     "output_type": "execute_result"
    }
   ],
   "source": [
    "wide_window = WindowGenerator(\n",
    "    input_width=24, label_width=24, shift=1,\n",
    "    label_columns=['discharge4'])\n",
    "\n",
    "wide_window"
   ]
  },
  {
   "cell_type": "code",
   "execution_count": 35,
   "id": "3b39eddd",
   "metadata": {},
   "outputs": [
    {
     "data": {
      "image/png": "[encoded data removed]",
      "text/plain": [
       "<Figure size 864x576 with 3 Axes>"
      ]
     },
     "metadata": {
      "needs_background": "light"
     },
     "output_type": "display_data"
    }
   ],
   "source": [
    "wide_window.plot(baseline)"
   ]
  },
  {
   "cell_type": "code",
   "execution_count": 36,
   "id": "2c7fdca5",
   "metadata": {},
   "outputs": [],
   "source": [
    "linear = tf.keras.Sequential([\n",
    "    tf.keras.layers.Dense(units=1)\n",
    "])"
   ]
  },
  {
   "cell_type": "code",
   "execution_count": 37,
   "id": "fdc58618",
   "metadata": {},
   "outputs": [],
   "source": [
    "MAX_EPOCHS = 20\n",
    "\n",
    "def compile_and_fit(model, window, patience=2):\n",
    "  early_stopping = tf.keras.callbacks.EarlyStopping(monitor='val_loss',\n",
    "                                                    patience=patience,\n",
    "                                                    mode='min')\n",
    "\n",
    "  model.compile(loss=tf.losses.MeanSquaredError(),\n",
    "                optimizer=tf.optimizers.Adam(),\n",
    "                metrics=[tf.metrics.MeanAbsoluteError()])\n",
    "\n",
    "  history = model.fit(window.train, epochs=MAX_EPOCHS,\n",
    "                      validation_data=window.val,\n",
    "                      callbacks=[early_stopping])\n",
    "  return history"
   ]
  },
  {
   "cell_type": "code",
   "execution_count": 38,
   "id": "3816afcc",
   "metadata": {},
   "outputs": [
    {
     "name": "stdout",
     "output_type": "stream",
     "text": [
      "Epoch 1/20\n",
      "180/180 [==============================] - 1s 5ms/step - loss: 2.5044 - mean_absolute_error: 0.6375 - val_loss: 1.8349 - val_mean_absolute_error: 0.5910\n",
      "Epoch 2/20\n",
      "180/180 [==============================] - 0s 1ms/step - loss: 2.1227 - mean_absolute_error: 0.5810 - val_loss: 1.5999 - val_mean_absolute_error: 0.5523\n",
      "Epoch 3/20\n",
      "180/180 [==============================] - 0s 1ms/step - loss: 1.9215 - mean_absolute_error: 0.5483 - val_loss: 1.4178 - val_mean_absolute_error: 0.5164\n",
      "Epoch 4/20\n",
      "180/180 [==============================] - 0s 1ms/step - loss: 1.7408 - mean_absolute_error: 0.5229 - val_loss: 1.2821 - val_mean_absolute_error: 0.4873\n",
      "Epoch 5/20\n",
      "180/180 [==============================] - 0s 1ms/step - loss: 1.5940 - mean_absolute_error: 0.4859 - val_loss: 1.1853 - val_mean_absolute_error: 0.4609\n",
      "Epoch 6/20\n",
      "180/180 [==============================] - 0s 1ms/step - loss: 1.5061 - mean_absolute_error: 0.4652 - val_loss: 1.1100 - val_mean_absolute_error: 0.4381\n",
      "Epoch 7/20\n",
      "180/180 [==============================] - 0s 1ms/step - loss: 1.4356 - mean_absolute_error: 0.4447 - val_loss: 1.0587 - val_mean_absolute_error: 0.4185\n",
      "Epoch 8/20\n",
      "180/180 [==============================] - 0s 1ms/step - loss: 1.2963 - mean_absolute_error: 0.4168 - val_loss: 1.0226 - val_mean_absolute_error: 0.4015\n",
      "Epoch 9/20\n",
      "180/180 [==============================] - 0s 1ms/step - loss: 1.2321 - mean_absolute_error: 0.4061 - val_loss: 0.9978 - val_mean_absolute_error: 0.3882\n",
      "Epoch 10/20\n",
      "180/180 [==============================] - 0s 1ms/step - loss: 1.2248 - mean_absolute_error: 0.3876 - val_loss: 0.9810 - val_mean_absolute_error: 0.3744\n",
      "Epoch 11/20\n",
      "180/180 [==============================] - 0s 1ms/step - loss: 1.2319 - mean_absolute_error: 0.3814 - val_loss: 0.9704 - val_mean_absolute_error: 0.3644\n",
      "Epoch 12/20\n",
      "180/180 [==============================] - 0s 1ms/step - loss: 1.2295 - mean_absolute_error: 0.3719 - val_loss: 0.9636 - val_mean_absolute_error: 0.3562\n",
      "Epoch 13/20\n",
      "180/180 [==============================] - 0s 1ms/step - loss: 1.1871 - mean_absolute_error: 0.3630 - val_loss: 0.9596 - val_mean_absolute_error: 0.3500\n",
      "Epoch 14/20\n",
      "180/180 [==============================] - 0s 1ms/step - loss: 1.1642 - mean_absolute_error: 0.3589 - val_loss: 0.9572 - val_mean_absolute_error: 0.3443\n",
      "Epoch 15/20\n",
      "180/180 [==============================] - 0s 1ms/step - loss: 1.0525 - mean_absolute_error: 0.3453 - val_loss: 0.9560 - val_mean_absolute_error: 0.3435\n",
      "Epoch 16/20\n",
      "180/180 [==============================] - 0s 1ms/step - loss: 1.1056 - mean_absolute_error: 0.3505 - val_loss: 0.9554 - val_mean_absolute_error: 0.3420\n",
      "Epoch 17/20\n",
      "180/180 [==============================] - 0s 1ms/step - loss: 1.0880 - mean_absolute_error: 0.3490 - val_loss: 0.9548 - val_mean_absolute_error: 0.3408\n",
      "Epoch 18/20\n",
      "180/180 [==============================] - 0s 1ms/step - loss: 1.0788 - mean_absolute_error: 0.3419 - val_loss: 0.9545 - val_mean_absolute_error: 0.3388\n",
      "Epoch 19/20\n",
      "180/180 [==============================] - 0s 1ms/step - loss: 1.0550 - mean_absolute_error: 0.3431 - val_loss: 0.9544 - val_mean_absolute_error: 0.3407\n",
      "Epoch 20/20\n",
      "180/180 [==============================] - 0s 1ms/step - loss: 1.0907 - mean_absolute_error: 0.3449 - val_loss: 0.9543 - val_mean_absolute_error: 0.3401\n",
      "52/52 [==============================] - 0s 628us/step - loss: 0.9543 - mean_absolute_error: 0.3401\n"
     ]
    }
   ],
   "source": [
    "history = compile_and_fit(linear, single_step_window)\n",
    "\n",
    "val_performance['Linear'] = linear.evaluate(single_step_window.val)\n",
    "performance['Linear'] = linear.evaluate(single_step_window.test, verbose=0)"
   ]
  },
  {
   "cell_type": "code",
   "execution_count": 39,
   "id": "538b8b39",
   "metadata": {},
   "outputs": [
    {
     "data": {
      "image/png": "[encoded data removed]",
      "text/plain": [
       "<Figure size 864x576 with 3 Axes>"
      ]
     },
     "metadata": {
      "needs_background": "light"
     },
     "output_type": "display_data"
    }
   ],
   "source": [
    "wide_window.plot(linear)"
   ]
  },
  {
   "cell_type": "code",
   "execution_count": 40,
   "id": "2836d6ef",
   "metadata": {},
   "outputs": [
    {
     "name": "stdout",
     "output_type": "stream",
     "text": [
      "Epoch 1/20\n",
      "180/180 [==============================] - 1s 2ms/step - loss: 0.8916 - mean_absolute_error: 0.3214 - val_loss: 0.9751 - val_mean_absolute_error: 0.3661\n",
      "Epoch 2/20\n",
      "180/180 [==============================] - 0s 1ms/step - loss: 0.8797 - mean_absolute_error: 0.3328 - val_loss: 1.0087 - val_mean_absolute_error: 0.3919\n",
      "Epoch 3/20\n",
      "180/180 [==============================] - 0s 1ms/step - loss: 0.8746 - mean_absolute_error: 0.3298 - val_loss: 0.9664 - val_mean_absolute_error: 0.3640\n",
      "Epoch 4/20\n",
      "180/180 [==============================] - 0s 1ms/step - loss: 0.8792 - mean_absolute_error: 0.3296 - val_loss: 0.9690 - val_mean_absolute_error: 0.3583\n",
      "Epoch 5/20\n",
      "180/180 [==============================] - 0s 1ms/step - loss: 0.8613 - mean_absolute_error: 0.3224 - val_loss: 0.9698 - val_mean_absolute_error: 0.3670\n",
      "52/52 [==============================] - 0s 687us/step - loss: 0.9698 - mean_absolute_error: 0.3670\n"
     ]
    }
   ],
   "source": [
    "dense = tf.keras.Sequential([\n",
    "    tf.keras.layers.Dense(units=64, activation='relu'),\n",
    "    tf.keras.layers.Dense(units=64, activation='relu'),\n",
    "    tf.keras.layers.Dense(units=1)\n",
    "])\n",
    "\n",
    "history = compile_and_fit(dense, single_step_window)\n",
    "\n",
    "val_performance['Dense'] = dense.evaluate(single_step_window.val)\n",
    "performance['Dense'] = dense.evaluate(single_step_window.test, verbose=0)"
   ]
  },
  {
   "cell_type": "code",
   "execution_count": 41,
   "id": "cfa2b847",
   "metadata": {},
   "outputs": [
    {
     "data": {
      "text/plain": [
       "Total window size: 4\n",
       "Input indices: [0 1 2]\n",
       "Label indices: [3]\n",
       "Label column name(s): ['discharge4']"
      ]
     },
     "execution_count": 41,
     "metadata": {},
     "output_type": "execute_result"
    }
   ],
   "source": [
    "CONV_WIDTH = 3\n",
    "conv_window = WindowGenerator(\n",
    "    input_width=CONV_WIDTH,\n",
    "    label_width=1,\n",
    "    shift=1,\n",
    "    label_columns=['discharge4'])\n",
    "\n",
    "conv_window"
   ]
  },
  {
   "cell_type": "code",
   "execution_count": 42,
   "id": "1a2cf306",
   "metadata": {},
   "outputs": [
    {
     "data": {
      "image/png": "[encoded data removed]",
      "text/plain": [
       "<Figure size 864x576 with 3 Axes>"
      ]
     },
     "metadata": {
      "needs_background": "light"
     },
     "output_type": "display_data"
    }
   ],
   "source": [
    "conv_window.plot()"
   ]
  },
  {
   "cell_type": "code",
   "execution_count": 43,
   "id": "0657b1f7",
   "metadata": {},
   "outputs": [],
   "source": [
    "multi_step_dense = tf.keras.Sequential([\n",
    "    # Shape: (time, features) => (time*features)\n",
    "    tf.keras.layers.Flatten(),\n",
    "    tf.keras.layers.Dense(units=32, activation='relu'),\n",
    "    tf.keras.layers.Dense(units=32, activation='relu'),\n",
    "    tf.keras.layers.Dense(units=1),\n",
    "    # Add back the time dimension.\n",
    "    # Shape: (outputs) => (1, outputs)\n",
    "    tf.keras.layers.Reshape([1, -1]),\n",
    "])"
   ]
  },
  {
   "cell_type": "code",
   "execution_count": 44,
   "id": "ad7a34e2",
   "metadata": {},
   "outputs": [
    {
     "name": "stdout",
     "output_type": "stream",
     "text": [
      "52/52 [==============================] - 0s 687us/step - loss: 0.9762 - mean_absolute_error: 0.3847\n"
     ]
    }
   ],
   "source": [
    "history = compile_and_fit(multi_step_dense, conv_window)\n",
    "\n",
    "IPython.display.clear_output()\n",
    "val_performance['Multi step dense'] = multi_step_dense.evaluate(conv_window.val)\n",
    "performance['Multi step dense'] = multi_step_dense.evaluate(conv_window.test, verbose=0)"
   ]
  },
  {
   "cell_type": "code",
   "execution_count": 45,
   "id": "ea6b8350",
   "metadata": {},
   "outputs": [
    {
     "data": {
      "image/png": "[encoded data removed]",
      "text/plain": [
       "<Figure size 864x576 with 3 Axes>"
      ]
     },
     "metadata": {
      "needs_background": "light"
     },
     "output_type": "display_data"
    }
   ],
   "source": [
    "conv_window.plot(multi_step_dense)"
   ]
  },
  {
   "cell_type": "code",
   "execution_count": 46,
   "id": "cb16bde2",
   "metadata": {},
   "outputs": [
    {
     "name": "stdout",
     "output_type": "stream",
     "text": [
      "Inputs shape (batch, time, features): (32, 24, 8)\n",
      "Labels shape (batch, time, features): (32, 24, 8)\n"
     ]
    }
   ],
   "source": [
    "single_step_window = WindowGenerator(\n",
    "    # `WindowGenerator` returns all features as labels if you \n",
    "    # don't set the `label_columns` argument.\n",
    "    input_width=1, label_width=1, shift=1)\n",
    "\n",
    "wide_window = WindowGenerator(\n",
    "    input_width=24, label_width=24, shift=1)\n",
    "\n",
    "for example_inputs, example_labels in wide_window.train.take(1):\n",
    "  print(f'Inputs shape (batch, time, features): {example_inputs.shape}')\n",
    "  print(f'Labels shape (batch, time, features): {example_labels.shape}')"
   ]
  },
  {
   "cell_type": "code",
   "execution_count": 47,
   "id": "a08179c6",
   "metadata": {},
   "outputs": [],
   "source": [
    "baseline = Baseline()\n",
    "baseline.compile(loss=tf.losses.MeanSquaredError(),\n",
    "                 metrics=[tf.metrics.MeanAbsoluteError()])"
   ]
  },
  {
   "cell_type": "code",
   "execution_count": 48,
   "id": "6b63ad77",
   "metadata": {},
   "outputs": [
    {
     "name": "stdout",
     "output_type": "stream",
     "text": [
      "51/51 [==============================] - 0s 601us/step - loss: 1.6149 - mean_absolute_error: 0.1961\n"
     ]
    }
   ],
   "source": [
    "val_performance = {}\n",
    "performance = {}\n",
    "val_performance['Baseline'] = baseline.evaluate(wide_window.val)\n",
    "performance['Baseline'] = baseline.evaluate(wide_window.test, verbose=0)"
   ]
  },
  {
   "cell_type": "code",
   "execution_count": 49,
   "id": "7443885b",
   "metadata": {},
   "outputs": [],
   "source": [
    "dense = tf.keras.Sequential([\n",
    "    tf.keras.layers.Dense(units=64, activation='relu'),\n",
    "    tf.keras.layers.Dense(units=64, activation='relu'),\n",
    "    tf.keras.layers.Dense(units=num_features)\n",
    "])"
   ]
  },
  {
   "cell_type": "code",
   "execution_count": 50,
   "id": "5b7f76a7",
   "metadata": {},
   "outputs": [
    {
     "name": "stdout",
     "output_type": "stream",
     "text": [
      "52/52 [==============================] - 0s 687us/step - loss: 0.8386 - mean_absolute_error: 0.1974\n"
     ]
    }
   ],
   "source": [
    "history = compile_and_fit(dense, single_step_window)\n",
    "\n",
    "IPython.display.clear_output()\n",
    "val_performance['Dense'] = dense.evaluate(single_step_window.val)\n",
    "performance['Dense'] = dense.evaluate(single_step_window.test, verbose=0)"
   ]
  },
  {
   "cell_type": "code",
   "execution_count": null,
   "id": "88f97108",
   "metadata": {},
   "outputs": [],
   "source": []
  }
 ],
 "metadata": {
  "kernelspec": {
   "display_name": "Python 3",
   "language": "python",
   "name": "python3"
  },
  "language_info": {
   "codemirror_mode": {
    "name": "ipython",
    "version": 3
   },
   "file_extension": ".py",
   "mimetype": "text/x-python",
   "name": "python",
   "nbconvert_exporter": "python",
   "pygments_lexer": "ipython3",
   "version": "3.8.9"
  }
 },
 "nbformat": 4,
 "nbformat_minor": 5
}
