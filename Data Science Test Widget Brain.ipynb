{
 "cells": [
  {
   "cell_type": "markdown",
   "metadata": {},
   "source": [
    "# Data Science Test Widget Brain.\n",
    "\n",
    "This assignment focuses on transshipments of a certain port. Each day, many vessels arrive in this port and are served by some stevedore(s). Four cargo types have been identified (ore, coal, oil, and petroleum), and vessels often carry a mixture of cargo types. For each unique vessel arrival (i.e. each row in the data), we would like a prediction of how much it transships (total of load & discharge activities) per cargo type. Variables of interest therefore are: discharge1, load1, discharge2, load2, discharge3, load3, discharge4 and load4. \n",
    "\n",
    "The data for this case is stored in ‘VesselData.csv’ and contains historical data. \n",
    "\n",
    "We would like you to provide us with a Jupyter notebook or Python script with the results of your endeavors, well enriched with comments elaborating on the steps taken, even if they did not lead you anywhere, and try to motivate your actions as much as possible. We would like to understand the approach you have taken and your line of thought."
   ]
  },
  {
   "cell_type": "markdown",
   "metadata": {},
   "source": [
    "Explanation of variables in the data:\n",
    "\n",
    "| Variable | Explanation   |\n",
    "|:-----|:-----|\n",
    "|   eta  | Estimated time of arrival of vessel|\n",
    "|  ata  | Actual time of arrival of vessel |\n",
    "|atd\t |           Actual time of departure of vessel |\n",
    "|vesseldwt|\t    Vessel deadweight tonnage|\n",
    "|vesseltype|\t    Vessel type|\n",
    "|discharge[x]|\tDischarge amount of cargo type x|\n",
    "|load[x]\t  |      Load amount of cargo type x|\n",
    "|stevedorenames|\t(Anonymized) stevedore ID’s visited by vessel|\n",
    "|hasnohamis\t   | Boolean whether vessel has the HaMIS notification system|\n",
    "|earliesteta|\t    Estimated time of arrival of first entry to port|\n",
    "|latesteta\t |   Estimated time of arrival of last entry to port (vessel can spread transshipment(s) over multiple days)|\n",
    "|traveltype\t  |  Travel type|\n",
    "|previousportid|\tID of previous port|\n",
    "|nextportid\t   | ID of next port|\n",
    "|isremarkable|\tBoolean whether there is anything remarkable regarding the vessel|\n",
    "|vesselid\t  |  Vessel ID|"
   ]
  },
  {
   "cell_type": "code",
   "execution_count": null,
   "metadata": {},
   "outputs": [],
   "source": []
  }
 ],
 "metadata": {
  "kernelspec": {
   "display_name": "Python 3",
   "language": "python",
   "name": "python3"
  },
  "language_info": {
   "codemirror_mode": {
    "name": "ipython",
    "version": 3
   },
   "file_extension": ".py",
   "mimetype": "text/x-python",
   "name": "python",
   "nbconvert_exporter": "python",
   "pygments_lexer": "ipython3",
   "version": "3.8.9"
  }
 },
 "nbformat": 4,
 "nbformat_minor": 2
}
